{
 "cells": [
  {
   "cell_type": "code",
   "execution_count": 2,
   "metadata": {},
   "outputs": [],
   "source": [
    "\n",
    "import json\n",
    "import yaml\n",
    "import sys\n",
    "import cv2\n",
    "with open(\"./configs/model.yaml\", \"r\")as f:\n",
    "    model_yaml = yaml.safe_load(f)\n",
    "project_dir = model_yaml[\"project_dir\"]\n",
    "sys.path.append(project_dir)\n",
    "import utils.load_data as ld\n",
    "import torch\n",
    "from Model.model import GCN, privacy_dataset, EarlyStopping\n",
    "import torch.nn as nn\n",
    "from torch_geometric.nn import MessagePassing\n",
    "from torch_geometric.utils import add_self_loops, degree\n",
    "from torch_geometric.data import Data, Batch\n",
    "from torch.utils.data import DataLoader, Subset"
   ]
  },
  {
   "cell_type": "code",
   "execution_count": 3,
   "metadata": {},
   "outputs": [
    {
     "name": "stdout",
     "output_type": "stream",
     "text": [
      "loading... mosaic_info\n"
     ]
    },
    {
     "ename": "FileNotFoundError",
     "evalue": "[Errno 2] No such file or directory: './configs/dataset.yaml'",
     "output_type": "error",
     "traceback": [
      "\u001b[0;31m---------------------------------------------------------------------------\u001b[0m",
      "\u001b[0;31mFileNotFoundError\u001b[0m                         Traceback (most recent call last)",
      "\u001b[1;32m/media/zhuohang/Disk2/SGG-GCN/visualization/visualize.ipynb Cell 2\u001b[0m line \u001b[0;36m1\n\u001b[0;32m----> <a href='vscode-notebook-cell:/media/zhuohang/Disk2/SGG-GCN/visualization/visualize.ipynb#W1sZmlsZQ%3D%3D?line=0'>1</a>\u001b[0m mosaic_info \u001b[39m=\u001b[39m ld\u001b[39m.\u001b[39;49mload_mosaic_info(\u001b[39m\"\u001b[39;49m\u001b[39mall\u001b[39;49m\u001b[39m\"\u001b[39;49m)\n\u001b[1;32m      <a href='vscode-notebook-cell:/media/zhuohang/Disk2/SGG-GCN/visualization/visualize.ipynb#W1sZmlsZQ%3D%3D?line=1'>2</a>\u001b[0m mosaic_predict \u001b[39m=\u001b[39m ld\u001b[39m.\u001b[39mload_mosaic_prediction(\u001b[39m\"\u001b[39m\u001b[39mall\u001b[39m\u001b[39m\"\u001b[39m)\n\u001b[1;32m      <a href='vscode-notebook-cell:/media/zhuohang/Disk2/SGG-GCN/visualization/visualize.ipynb#W1sZmlsZQ%3D%3D?line=4'>5</a>\u001b[0m pth_dir \u001b[39m=\u001b[39m \u001b[39m\"\u001b[39m\u001b[39m../pth/2023-12-11-22-02-08/model_10.pth\u001b[39m\u001b[39m\"\u001b[39m\n",
      "File \u001b[0;32m/media/zhuohang/Disk2/SGG-GCN/utils/load_data.py:9\u001b[0m, in \u001b[0;36mload_mosaic_info\u001b[0;34m(label_name, file_name)\u001b[0m\n\u001b[1;32m      7\u001b[0m \u001b[39mdef\u001b[39;00m \u001b[39mload_mosaic_info\u001b[39m(label_name\u001b[39m=\u001b[39m\u001b[39m\"\u001b[39m\u001b[39mall\u001b[39m\u001b[39m\"\u001b[39m, file_name\u001b[39m=\u001b[39m\u001b[39m\"\u001b[39m\u001b[39mcustom_data_info.json\u001b[39m\u001b[39m\"\u001b[39m):\n\u001b[1;32m      8\u001b[0m     \u001b[39mprint\u001b[39m(\u001b[39m\"\u001b[39m\u001b[39mloading... mosaic_info\u001b[39m\u001b[39m\"\u001b[39m)\n\u001b[0;32m----> 9\u001b[0m     \u001b[39mwith\u001b[39;00m \u001b[39mopen\u001b[39;49m(\u001b[39m'\u001b[39;49m\u001b[39m./configs/dataset.yaml\u001b[39;49m\u001b[39m'\u001b[39;49m) \u001b[39mas\u001b[39;00m f:\n\u001b[1;32m     10\u001b[0m         dataset_info \u001b[39m=\u001b[39m yaml\u001b[39m.\u001b[39msafe_load(f)\n\u001b[1;32m     11\u001b[0m     mosaic_data_info_base_dir \u001b[39m=\u001b[39m dataset_info[\u001b[39m'\u001b[39m\u001b[39mdataset\u001b[39m\u001b[39m'\u001b[39m][\u001b[39m'\u001b[39m\u001b[39mmosaic\u001b[39m\u001b[39m'\u001b[39m][\u001b[39m'\u001b[39m\u001b[39msgg_dir\u001b[39m\u001b[39m'\u001b[39m]\n",
      "\u001b[0;31mFileNotFoundError\u001b[0m: [Errno 2] No such file or directory: './configs/dataset.yaml'"
     ]
    }
   ],
   "source": [
    "mosaic_info = ld.load_mosaic_info(\"all\")\n",
    "mosaic_predict = ld.load_mosaic_prediction(\"all\")\n",
    "\n",
    "\n",
    "pth_dir = \"./pth/2023-12-11-22-02-08/model_10.pth\"\n",
    "with open('./configs/model.yaml') as file:\n",
    "        model_info = yaml.safe_load(file)\n",
    "\n",
    "seeds_num = model_info[\"model\"][\"seed\"]\n",
    "torch.manual_seed(seeds_num)\n",
    "\n",
    "# 创建GCN模型\n",
    "node_features_dim = model_info[\"model\"][\"node\"][\"embedding_dim\"]\n",
    "node_num_categories = model_info[\"model\"][\"node\"][\"num_categories\"]\n",
    "\n",
    "edge_embed_dim = model_info[\"model\"][\"relationship\"][\"embedding_dim\"]\n",
    "edge_num_relations = model_info[\"model\"][\"relationship\"][\"num_relations\"]\n",
    "\n",
    "input_layer_dim = model_info[\"model\"][\"input_layer\"][\"input_layer_dim\"]\n",
    "hidden_layer_dim = model_info[\"model\"][\"hidden_layer\"][\"hidden_layer_dim\"]\n",
    "output_layer_dim = model_info[\"model\"][\"output_layer\"][\"output_dim\"]\n",
    "model_lr = 0.01\n"
   ]
  },
  {
   "cell_type": "code",
   "execution_count": null,
   "metadata": {},
   "outputs": [],
   "source": [
    "device = torch.device('cuda' if torch.cuda.is_available() else 'cpu')\n",
    "print(f\"device:{device}\")\n",
    "dataset_name = \"mosaic\"\n",
    "model_batch_size = 1"
   ]
  },
  {
   "cell_type": "code",
   "execution_count": null,
   "metadata": {},
   "outputs": [],
   "source": [
    "# 创建模型\n",
    "model = GCN(in_channels=input_layer_dim, hidden_channels=hidden_layer_dim, out_channels=output_layer_dim).to(device)\n",
    "\n",
    "# 定义损失函数和优化器\n",
    "criterion = nn.NLLLoss()\n",
    "optimizer = torch.optim.Adam(model.parameters(), lr=model_lr)"
   ]
  }
 ],
 "metadata": {
  "kernelspec": {
   "display_name": "rtpb",
   "language": "python",
   "name": "python3"
  },
  "language_info": {
   "codemirror_mode": {
    "name": "ipython",
    "version": 3
   },
   "file_extension": ".py",
   "mimetype": "text/x-python",
   "name": "python",
   "nbconvert_exporter": "python",
   "pygments_lexer": "ipython3",
   "version": "3.9.18"
  }
 },
 "nbformat": 4,
 "nbformat_minor": 2
}
